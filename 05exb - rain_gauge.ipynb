{
  "nbformat": 4,
  "nbformat_minor": 0,
  "metadata": {
    "colab": {
      "name": "Untitled0.ipynb",
      "version": "0.3.2",
      "provenance": [],
      "collapsed_sections": [],
      "toc_visible": true
    },
    "kernelspec": {
      "name": "python3",
      "display_name": "Python 3"
    }
  },
  "cells": [
    {
      "metadata": {
        "id": "VQsOm4Q1JGS3",
        "colab_type": "text"
      },
      "cell_type": "markdown",
      "source": [
        "##Exercise 5b -- Rainfall Class"
      ]
    },
    {
      "metadata": {
        "id": "NNgTTJmtM86V",
        "colab_type": "text"
      },
      "cell_type": "markdown",
      "source": [
        "### Preparation\n"
      ]
    },
    {
      "metadata": {
        "id": "l3zgWhW8Jb8l",
        "colab_type": "text"
      },
      "cell_type": "markdown",
      "source": [
        "**1. ** Visit ***[data.gov.sg](https://data.gov.sg)***, look at all the different kinds of data you can get access to. Ranging from Transport to Economics to Weather.\n",
        "\n",
        "Find the \"**Rainfall - Monthly Total**\" Dataset  -- download it to your computer with the Download button in the upper right. \n",
        "\n",
        "The file will be called \"rainfall-monthly--total.zip\", you need to UNZIP this file on your computer (just like the files I send after each class)"
      ]
    },
    {
      "metadata": {
        "id": "_gZ7RfqdKdDc",
        "colab_type": "text"
      },
      "cell_type": "markdown",
      "source": [
        "**2.** Open the left panel on this notebook by clicking the black and white \">\" button just to the left of this text. \n",
        "\n",
        "Once there, click on the \"Files\" tab,  click \"Upload\" and select the \"rainfall-monthly-total.csv\" file you just downloaded to your local machine.\n",
        "\n"
      ]
    },
    {
      "metadata": {
        "id": "lRn3arnINM0D",
        "colab_type": "text"
      },
      "cell_type": "markdown",
      "source": [
        "### The Task"
      ]
    },
    {
      "metadata": {
        "id": "ue4me_c-NRe6",
        "colab_type": "text"
      },
      "cell_type": "markdown",
      "source": [
        "Create a class that can tell you the rainfall, if you provide it the month."
      ]
    },
    {
      "metadata": {
        "id": "qwPwrrlUNfbW",
        "colab_type": "text"
      },
      "cell_type": "markdown",
      "source": [
        "You will need to be able to read the rainfall file in when you initialize your class.\n",
        "\n",
        "Reading your file line by line will work, there are two things to remember.\n",
        "\n",
        "1. The first line of the CSV is a header line and can be ignored.\n",
        "2. There is a \",\" between the month and the rainfall on the line. You will need to use the \"split\" function to break the line into separate values. Split works like this:\n",
        "\n",
        "```\n",
        "# Splits at ',' \n",
        "print(the_line.split(', '))\n",
        "\n",
        "# When you split it goes into a List, so the \n",
        "# items you want are the_line[0] (month), and # the_line[1] (rainfall)\n",
        "\n",
        "```\n",
        "\n",
        "\n"
      ]
    },
    {
      "metadata": {
        "id": "62LqX9HrPazZ",
        "colab_type": "text"
      },
      "cell_type": "markdown",
      "source": [
        "Your class needs a method which has an argument for \"month\", that will return the rainfall for that month."
      ]
    },
    {
      "metadata": {
        "id": "vit-HDwvPqdP",
        "colab_type": "text"
      },
      "cell_type": "markdown",
      "source": [
        "For optional/bonus work, create a method that tells the highest rainfall on record, and the month it occurred!"
      ]
    }
  ]
}

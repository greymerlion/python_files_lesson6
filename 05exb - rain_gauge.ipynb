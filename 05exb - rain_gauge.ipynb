{
  "nbformat": 4,
  "nbformat_minor": 0,
  "metadata": {
    "colab": {
      "name": "05exb - rainfall_class.ipynb",
      "version": "0.3.2",
      "provenance": [],
      "collapsed_sections": [],
      "toc_visible": true
    },
    "kernelspec": {
      "name": "python3",
      "display_name": "Python 3"
    }
  },
  "cells": [
    {
      "metadata": {
        "id": "VQsOm4Q1JGS3",
        "colab_type": "text"
      },
      "cell_type": "markdown",
      "source": [
        "##Exercise 5b -- Rainfall Class"
      ]
    },
    {
      "metadata": {
        "id": "NNgTTJmtM86V",
        "colab_type": "text"
      },
      "cell_type": "markdown",
      "source": [
        "### Preparation\n"
      ]
    },
    {
      "metadata": {
        "id": "l3zgWhW8Jb8l",
        "colab_type": "text"
      },
      "cell_type": "markdown",
      "source": [
        "**1. ** Visit ***[data.gov.sg](https://data.gov.sg)***, look at all the different kinds of data you can get access to. Ranging from Transport to Economics to Weather.\n",
        "\n",
        "Find the \"**Rainfall - Monthly Total**\" Dataset  -- download it to your computer with the Download button in the upper right. \n",
        "\n",
        "The file will be called \"rainfall-monthly--total.zip\", you need to UNZIP this file on your computer (just like the files I send after each class)"
      ]
    },
    {
      "metadata": {
        "id": "_gZ7RfqdKdDc",
        "colab_type": "text"
      },
      "cell_type": "markdown",
      "source": [
        "**2.** Open the left panel on this notebook by clicking the black and white \">\" button just to the left of this text. \n",
        "\n",
        "Once there, click on the \"Files\" tab,  click \"Upload\" and select the \"rainfall-monthly-total.csv\" file you just downloaded to your local machine.\n",
        "\n"
      ]
    },
    {
      "metadata": {
        "id": "lRn3arnINM0D",
        "colab_type": "text"
      },
      "cell_type": "markdown",
      "source": [
        "### The Task"
      ]
    },
    {
      "metadata": {
        "id": "ue4me_c-NRe6",
        "colab_type": "text"
      },
      "cell_type": "markdown",
      "source": [
        "Create a class that can tell you the rainfall, if you provide it the month."
      ]
    },
    {
      "metadata": {
        "id": "qwPwrrlUNfbW",
        "colab_type": "text"
      },
      "cell_type": "markdown",
      "source": [
        "You will need to be able to read the rainfall file in when you initialize your class.\n",
        "\n",
        "Reading your file line by line will work, there are two things to remember.\n",
        "\n",
        "1. The first line of the CSV is a header line and can be ignored.\n",
        "2. There is a \",\" between the month and the rainfall on the line. You will need to use the \"split\" function to break the line into separate values. Split works like this:\n",
        "\n",
        "```\n",
        "# Splits at ',' \n",
        "print(the_line.split(', '))\n",
        "\n",
        "# When you split it goes into a List, so the \n",
        "# items you want are the_line[0] (month), and # the_line[1] (rainfall)\n",
        "\n",
        "```\n",
        "\n",
        "\n"
      ]
    },
    {
      "metadata": {
        "id": "62LqX9HrPazZ",
        "colab_type": "text"
      },
      "cell_type": "markdown",
      "source": [
        "Your class needs a method which has an argument for \"month\", that will return the rainfall for that month."
      ]
    },
    {
      "metadata": {
        "id": "vit-HDwvPqdP",
        "colab_type": "text"
      },
      "cell_type": "markdown",
      "source": [
        "For optional/bonus work, create a method that tells the highest rainfall on record, and the month it occurred!"
      ]
    },
    {
      "metadata": {
        "id": "tPBa40E5kvEC",
        "colab_type": "code",
        "colab": {}
      },
      "cell_type": "code",
      "source": [
        "filename = \"rainfall-monthly-total.csv\""
      ],
      "execution_count": 0,
      "outputs": []
    },
    {
      "metadata": {
        "id": "9GhbppG1liKD",
        "colab_type": "code",
        "colab": {
          "base_uri": "https://localhost:8080/",
          "height": 52
        },
        "outputId": "aa9d56f3-27ed-4abb-8808-4881dacac056"
      },
      "cell_type": "code",
      "source": [
        "class RainGauge:\n",
        "  def __init__(self):\n",
        "    self.rainfall = {}\n",
        "\n",
        "    with open(filename) as f:\n",
        "        # Read and ignore first line (the header)\n",
        "        line = f.readline()\n",
        "    \n",
        "        # Now start reading the data for real\n",
        "        line = f.readline()\n",
        "        while line:\n",
        "            line = line.rstrip()\n",
        "            columns = line.split(',')\n",
        "            # month is columns[0]\n",
        "            # rainfall is columns[1]\n",
        "            self.rainfall[columns[0]] = float(columns[1])\n",
        "            line = f.readline()\n",
        "  def get_rainfall(self,month):\n",
        "    return self.rainfall[month]\n",
        "  \n",
        "  def get_minimum(self):\n",
        "    minimum = False\n",
        "    minimum_month = \"\"\n",
        "    for month,measurement in self.rainfall.items():\n",
        "      if measurement < minimum or minimum == False:\n",
        "        minimum = measurement\n",
        "        minimum_month = month\n",
        "    return {month:minimum}\n",
        "        \n",
        "my_gauge = RainGauge()\n",
        "check_month = \"2006-03\"\n",
        "print(\"Rain in %s was %.3fmm\" % (check_month,my_gauge.get_rainfall(check_month)))\n",
        "print(my_gauge.get_minimum())"
      ],
      "execution_count": 23,
      "outputs": [
        {
          "output_type": "stream",
          "text": [
            "Rain in 2006-03 was 83.100mm\n",
            "{'2018-11': 0.2}\n"
          ],
          "name": "stdout"
        }
      ]
    }
  ]
}

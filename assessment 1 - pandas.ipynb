{
  "nbformat": 4,
  "nbformat_minor": 0,
  "metadata": {
    "colab": {
      "name": "assessment 1 - pandas question.ipynb",
      "version": "0.3.2",
      "provenance": []
    },
    "kernelspec": {
      "display_name": "Python 3",
      "language": "python",
      "name": "python3"
    }
  },
  "cells": [
    {
      "metadata": {
        "id": "CeyDWk0d_-ap",
        "colab_type": "text"
      },
      "cell_type": "markdown",
      "source": [
        "# Assessment 1:\n",
        "\n",
        "We'll be working our EmploymentRecords.csv.\n",
        "\n",
        "Try extracting rows 5-10 of our DataFrame, preserving only the \"Previous Employers\" and \"Hired\" columns. Assign that to a new DataFrame, and create a bar chart plotting the distribution of previous employers in this subset of data."
      ]
    },
    {
      "metadata": {
        "id": "T_s9-8ij_-ap",
        "colab_type": "text"
      },
      "cell_type": "markdown",
      "source": [
        "## Solution"
      ]
    },
    {
      "metadata": {
        "id": "z295Pxm-_-aq",
        "colab_type": "text"
      },
      "cell_type": "markdown",
      "source": [
        "Read in the csv file EmploymentRecords.csv"
      ]
    },
    {
      "metadata": {
        "id": "aTYL8NF-_-ar",
        "colab_type": "text"
      },
      "cell_type": "markdown",
      "source": [
        "Extract rows 5 to 10."
      ]
    },
    {
      "metadata": {
        "id": "Ymzj-O2s_-av",
        "colab_type": "text"
      },
      "cell_type": "markdown",
      "source": [
        "Get only the \"Previous Employers\" and \"Hired\" columns"
      ]
    },
    {
      "metadata": {
        "id": "keMP1XXL_-ay",
        "colab_type": "text"
      },
      "cell_type": "markdown",
      "source": [
        "Create a bar chart plotting the distribution of previous employers."
      ]
    },
    {
      "metadata": {
        "id": "3yvrnEVR_-a3",
        "colab_type": "code",
        "colab": {}
      },
      "cell_type": "code",
      "source": [
        ""
      ],
      "execution_count": 0,
      "outputs": []
    }
  ]
}